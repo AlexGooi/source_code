{
 "cells": [
  {
   "cell_type": "code",
   "execution_count": 2,
   "metadata": {},
   "outputs": [],
   "source": [
    "import gym\n",
    "from gym import Env\n",
    "from gym.spaces import Discrete,Box,Dict,Tuple,MultiBinary,MultiDiscrete\n",
    "\n",
    "import numpy as np\n",
    "import random\n",
    "import os\n",
    "\n",
    "from stable_baselines3 import PPO\n",
    "from stable_baselines3.common.vec_env import DummyVecEnv\n",
    "from stable_baselines3.common.evaluation import evaluate_policy\n"
   ]
  },
  {
   "cell_type": "code",
   "execution_count": 2,
   "metadata": {},
   "outputs": [
    {
     "data": {
      "text/plain": [
       "Discrete(3)"
      ]
     },
     "execution_count": 2,
     "metadata": {},
     "output_type": "execute_result"
    }
   ],
   "source": [
    "Discrete(3)"
   ]
  },
  {
   "cell_type": "code",
   "execution_count": 5,
   "metadata": {},
   "outputs": [
    {
     "name": "stdout",
     "output_type": "stream",
     "text": [
      "Running simmulation... \n",
      "The average wait time is 130 minutes and 108 seconds.\n",
      "\n"
     ]
    },
    {
     "data": {
      "text/plain": [
       "[<matplotlib.lines.Line2D at 0x7f2e347835b0>]"
      ]
     },
     "execution_count": 5,
     "metadata": {},
     "output_type": "execute_result"
    },
    {
     "data": {
      "image/png": "[encoded data removed]",
      "text/plain": [
       "<Figure size 640x480 with 1 Axes>"
      ]
     },
     "metadata": {},
     "output_type": "display_data"
    }
   ],
   "source": [
    "import simpy\n",
    "import random\n",
    "import statistics\n",
    "import numpy as np\n",
    "import matplotlib.pyplot as plt\n",
    "\n",
    "battery_trend = []\n",
    "wait_times = []\n",
    "time_stamp = []\n",
    "#Create an class that mimics an charging station\n",
    "class Charging_station():\n",
    "    #Init method for the charging station class\n",
    "    def __init__(self,env,num_charging_stations):\n",
    "        self.env = env\n",
    "        self.charge_station = simpy.Resource(env,num_charging_stations)\n",
    "        self.battery_amount =150000\n",
    "        self.amount = 2\n",
    "        self.battery_drained = False\n",
    "        self.solar_power = 20\n",
    "\n",
    "    #This method controls the solar panel \n",
    "    def solar_panel(self):\n",
    "        while True:\n",
    "            yield self.env.timeout(0.016)\n",
    "            #This method controls the solar panel\n",
    "            self.battery_amount += self.solar_power\n",
    "\n",
    "    def trend_battery(self):\n",
    "        time = 0\n",
    "        while True:\n",
    "            #Trend the battery status every minute\n",
    "            yield self.env.timeout(1)\n",
    "            battery_trend.append(self.battery_amount)  \n",
    "            time_stamp.append(time)\n",
    "            time +=1\n",
    "\n",
    "\n",
    "    #This method simmulates the charging of a vechicle\n",
    "    def charge_vechicle(self, vehicle):\n",
    "        # Set a random time for \n",
    "        if self.battery_amount >1:\n",
    "            self.amount = 2\n",
    "        else:\n",
    "            if self.battery_drained == False:\n",
    "                print(\"Battery Drained\")\n",
    "                self.battery_drained = True \n",
    "            self.amount = 1\n",
    "        \n",
    "        self.battery_amount -= 1\n",
    "        yield self.env.timeout(0.016)        \n",
    "\n",
    "\n",
    "\n",
    "class Truck():\n",
    "    #Init the truck class\n",
    "    def __init__(self,charge_left,number):\n",
    "        self.charge = charge_left\n",
    "        self.number = number\n",
    "\n",
    "    def charge_truck(self,env,truck,charging_station):\n",
    "        #Get the starting time\n",
    "        begin_time = env.now\n",
    "        #Charge the truck\n",
    "        with charging_station.charge_station.request() as request:\n",
    "            #Wait for an free charging station\n",
    "            yield request\n",
    "            #Start the charging\n",
    "            while self.charge < 7200:\n",
    "                yield env.process(charging_station.charge_vechicle(truck))\n",
    "                self.charge += charging_station.amount\n",
    "        #Determine the total time a truckdriver is needing for a charge\n",
    "        wait_times.append(env.now -begin_time) #Deze moet wel aan blijven!!!!!!!\n",
    "\n",
    "\n",
    "\n",
    "#This function runs the charging station\n",
    "def run_station(env,num_chargers):\n",
    "    truck = []\n",
    "    number = 1\n",
    "    #Create the simmulation enviroment\n",
    "         \n",
    "    #Set 1 car in the waiting line\n",
    "    truck.append(Truck(50,1))\n",
    "    #Add the solat panel to the enviroment\\\n",
    "    env.process(charge_station.solar_panel())\n",
    "    env.process(truck[1 -1].charge_truck(env,truck,charge_station))\n",
    "    env.process(charge_station.trend_battery())\n",
    "    while True:\n",
    "        yield env.timeout(5)\n",
    "        truck.append(Truck(50,1))\n",
    "        number += 1\n",
    "        truck.append(Truck(50,number))\n",
    "        env.process(truck[number -1].charge_truck(env,truck,charge_station))\n",
    "\n",
    "\n",
    "\n",
    "def get_average_wait_time(arrival_times):\n",
    "    average_wait = statistics.mean(wait_times)\n",
    "    # Pretty print the results\n",
    "    minutes, frac_minutes = divmod(average_wait, 2)\n",
    "    seconds = frac_minutes * 60\n",
    "    return round(minutes), round(seconds)\n",
    "\n",
    "#The main method for the systme\n",
    "def truck_sim(env): \n",
    "    #Setup the main system\n",
    "    random.seed(30)\n",
    "    #Run the simmulation\n",
    "    \n",
    "    env.process(run_station(env,5))\n",
    "\n",
    "    #Run the simmulation for 1 day\n",
    "    env.run(until= 720)\n",
    "    #View the results\n",
    "    mins, secs = get_average_wait_time(wait_times)\n",
    "    print(\"Running simmulation...\", \n",
    "          f\"\\nThe average wait time is {mins} minutes and {secs} seconds.\")\n",
    "    \n",
    "    print()\n",
    "\n",
    "env_sim = simpy.Environment()\n",
    "charge_station = Charging_station(env_sim,4 )\n",
    "\n",
    "truck_sim(env_sim)\n",
    "\n",
    "y = np.array(battery_trend)\n",
    "x = np.array(time_stamp)\n",
    "slope, intercept = np.polyfit(x, y, 1)\n",
    "plt.plot(x, y)\n",
    "\n"
   ]
  },
  {
   "cell_type": "code",
   "execution_count": 13,
   "metadata": {},
   "outputs": [],
   "source": [
    "#Create a truck enviroment that the model is going to perform in\n",
    "class TruckEnv(Env):\n",
    "    def __init__(self):\n",
    "        self.action_space = Box(low = 0, high = 0.00006, shape = (1,))\n",
    "        self.observation_space = Box(low = 0, high = 15000, shape =(1,))\n",
    "        self.state = 15000\n",
    "\n",
    "    def step(self,action):\n",
    "        #Apply the adjustment on the state\n",
    "        charge_station.solar_power = action\n",
    "        #Run the simmulation\n",
    "        env_sim = simpy.Environment()\n",
    "        truck_sim(env_sim)\n",
    "        #Check if the battery is near zero\n",
    "        if charge_station.battery_amount < 1000 and charge_station.battery_amount >= 0:\n",
    "            reward = 1\n",
    "        else:\n",
    "            reward = - 1\n",
    "\n",
    "        info = {}\n",
    "        return charge_station.battery_amount, reward, True, info\n",
    "    \n",
    "    def render(self):\n",
    "        pass\n",
    "\n",
    "    def reset(self):\n",
    "        pass"
   ]
  },
  {
   "cell_type": "code",
   "execution_count": 15,
   "metadata": {},
   "outputs": [
    {
     "name": "stdout",
     "output_type": "stream",
     "text": [
      "Running simmulation... \n",
      "The average wait time is 130 minutes and 108 seconds.\n",
      "\n",
      "Episode:1 Score:-1\n",
      "Running simmulation... \n",
      "The average wait time is 130 minutes and 108 seconds.\n",
      "\n",
      "Episode:2 Score:-1\n",
      "Running simmulation... \n",
      "The average wait time is 130 minutes and 108 seconds.\n",
      "\n",
      "Episode:3 Score:-1\n",
      "Running simmulation... \n",
      "The average wait time is 130 minutes and 108 seconds.\n",
      "\n",
      "Episode:4 Score:-1\n",
      "Running simmulation... \n",
      "The average wait time is 130 minutes and 108 seconds.\n",
      "\n",
      "Episode:5 Score:-1\n"
     ]
    }
   ],
   "source": [
    "env = TruckEnv()\n",
    "\n",
    "episodes = 5\n",
    "for episode in range(1,episodes+1):\n",
    "    state = env.reset()\n",
    "    done = False\n",
    "    score = 0\n",
    "\n",
    "    while not done:\n",
    "        env.render()\n",
    "        action = env.action_space.sample()\n",
    "        n_state, reward, done, info = env.step(action)\n",
    "        score += reward\n",
    "    print('Episode:{} Score:{}'.format(episode, score))\n",
    "env.close()"
   ]
  }
 ],
 "metadata": {
  "kernelspec": {
   "display_name": "Python 3",
   "language": "python",
   "name": "python3"
  },
  "language_info": {
   "codemirror_mode": {
    "name": "ipython",
    "version": 3
   },
   "file_extension": ".py",
   "mimetype": "text/x-python",
   "name": "python",
   "nbconvert_exporter": "python",
   "pygments_lexer": "ipython3",
   "version": "3.9.18"
  }
 },
 "nbformat": 4,
 "nbformat_minor": 2
}
